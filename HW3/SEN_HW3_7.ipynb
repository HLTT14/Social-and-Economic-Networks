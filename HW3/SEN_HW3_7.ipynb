{
  "nbformat": 4,
  "nbformat_minor": 0,
  "metadata": {
    "colab": {
      "name": "SEN_HW3_7.ipynb",
      "provenance": [],
      "collapsed_sections": [],
      "toc_visible": true,
      "authorship_tag": "ABX9TyPhtwqHe3EDmJuwEkYDo7gc",
      "include_colab_link": true
    },
    "kernelspec": {
      "name": "python3",
      "display_name": "Python 3"
    },
    "language_info": {
      "name": "python"
    }
  },
  "cells": [
    {
      "cell_type": "markdown",
      "metadata": {
        "id": "view-in-github",
        "colab_type": "text"
      },
      "source": [
        "<a href=\"https://colab.research.google.com/github/HLTT14/Social-and-Economic-Networks/blob/main/HW3/SEN_HW3_7.ipynb\" target=\"_parent\"><img src=\"https://colab.research.google.com/assets/colab-badge.svg\" alt=\"Open In Colab\"/></a>"
      ]
    },
    {
      "cell_type": "markdown",
      "metadata": {
        "id": "JO0b5kWer_Hr"
      },
      "source": [
        "# **Setup**"
      ]
    },
    {
      "cell_type": "markdown",
      "metadata": {
        "id": "AVX7L8JpsGAL"
      },
      "source": [
        "## Downlad Datasets"
      ]
    },
    {
      "cell_type": "code",
      "metadata": {
        "colab": {
          "base_uri": "https://localhost:8080/"
        },
        "id": "R4ez-CDysRtf",
        "outputId": "ef876c76-e809-42f1-8181-823782e6e373"
      },
      "source": [
        "!git clone https://github.com/HLTT14/Social-and-Economic-Networks.git"
      ],
      "execution_count": 2,
      "outputs": [
        {
          "output_type": "stream",
          "name": "stdout",
          "text": [
            "Cloning into 'Social-and-Economic-Networks'...\n",
            "remote: Enumerating objects: 32, done.\u001b[K\n",
            "remote: Counting objects: 100% (32/32), done.\u001b[K\n",
            "remote: Compressing objects: 100% (28/28), done.\u001b[K\n",
            "remote: Total 32 (delta 5), reused 14 (delta 1), pack-reused 0\u001b[K\n",
            "Unpacking objects: 100% (32/32), done.\n"
          ]
        }
      ]
    },
    {
      "cell_type": "markdown",
      "metadata": {
        "id": "1Evm-GuhuL9S"
      },
      "source": [
        "## Install Libraries"
      ]
    },
    {
      "cell_type": "code",
      "metadata": {
        "colab": {
          "base_uri": "https://localhost:8080/"
        },
        "id": "z4bt8FQduOXq",
        "outputId": "f624ff94-e236-470f-b3b1-4c57a7c08850"
      },
      "source": [
        "pip install networkx"
      ],
      "execution_count": 3,
      "outputs": [
        {
          "output_type": "stream",
          "name": "stdout",
          "text": [
            "Requirement already satisfied: networkx in /usr/local/lib/python3.7/dist-packages (2.6.3)\n"
          ]
        }
      ]
    },
    {
      "cell_type": "markdown",
      "metadata": {
        "id": "lg5suqSLwlzL"
      },
      "source": [
        "## Import Libraries"
      ]
    },
    {
      "cell_type": "code",
      "metadata": {
        "id": "4CWfGY5XwlX4"
      },
      "source": [
        "import pandas as pd\n",
        "import networkx as nx"
      ],
      "execution_count": 4,
      "outputs": []
    },
    {
      "cell_type": "markdown",
      "metadata": {
        "id": "RBsEaZ0ZuXub"
      },
      "source": [
        "# **Initialization**"
      ]
    },
    {
      "cell_type": "markdown",
      "metadata": {
        "id": "qGD2K0ozub6d"
      },
      "source": [
        "## Read Dataset"
      ]
    },
    {
      "cell_type": "code",
      "metadata": {
        "id": "adWnofTWu3bM"
      },
      "source": [
        "df = pd.read_csv(\"/content/Social-and-Economic-Networks/HW3/dataset.tsv\", sep=\"\\t\", header=None)"
      ],
      "execution_count": 17,
      "outputs": []
    },
    {
      "cell_type": "code",
      "metadata": {
        "id": "3j1FBD5oWYha"
      },
      "source": [
        "edges = list(df.iloc[:, :2].to_records(index=False))"
      ],
      "execution_count": 26,
      "outputs": []
    },
    {
      "cell_type": "markdown",
      "metadata": {
        "id": "MLXsYhGLeTzC"
      },
      "source": [
        "# **Main**"
      ]
    },
    {
      "cell_type": "markdown",
      "metadata": {
        "id": "vsojdDaBxJAQ"
      },
      "source": [
        "## Create Graph"
      ]
    },
    {
      "cell_type": "code",
      "metadata": {
        "id": "kJJdYGnTxLO0"
      },
      "source": [
        "G = nx.Graph()\n",
        "G.add_edges_from(edges)"
      ],
      "execution_count": 30,
      "outputs": []
    },
    {
      "cell_type": "markdown",
      "metadata": {
        "id": "gcy-CrgvbNVT"
      },
      "source": [
        "## Graph Details"
      ]
    },
    {
      "cell_type": "markdown",
      "metadata": {
        "id": "YzsY1JdOa5Bt"
      },
      "source": [
        "Number of Nodes"
      ]
    },
    {
      "cell_type": "code",
      "metadata": {
        "colab": {
          "base_uri": "https://localhost:8080/"
        },
        "id": "SSn3AsG_a9A5",
        "outputId": "2fe75f78-5295-492a-c585-6bf2a3d470cf"
      },
      "source": [
        "G.number_of_nodes()"
      ],
      "execution_count": 31,
      "outputs": [
        {
          "output_type": "execute_result",
          "data": {
            "text/plain": [
              "131513"
            ]
          },
          "metadata": {},
          "execution_count": 31
        }
      ]
    },
    {
      "cell_type": "markdown",
      "metadata": {
        "id": "qjdkFBXmbG3w"
      },
      "source": [
        "Number of Edges"
      ]
    },
    {
      "cell_type": "code",
      "metadata": {
        "colab": {
          "base_uri": "https://localhost:8080/"
        },
        "id": "N_NyrQPFbI3Z",
        "outputId": "ba880a1f-e600-49be-8ac9-4aeefc8ef51a"
      },
      "source": [
        "G.number_of_edges()"
      ],
      "execution_count": 32,
      "outputs": [
        {
          "output_type": "execute_result",
          "data": {
            "text/plain": [
              "708507"
            ]
          },
          "metadata": {},
          "execution_count": 32
        }
      ]
    },
    {
      "cell_type": "markdown",
      "metadata": {
        "id": "7aNvgZmWcglz"
      },
      "source": [
        "Number of Connected Components"
      ]
    },
    {
      "cell_type": "code",
      "metadata": {
        "colab": {
          "base_uri": "https://localhost:8080/"
        },
        "id": "pYs174VadC5p",
        "outputId": "cb85c4e1-3106-4898-bd87-f1599f2c3f78"
      },
      "source": [
        "connected_components = list(nx.connected_components(G))\n",
        "len(connected_components)"
      ],
      "execution_count": 46,
      "outputs": [
        {
          "output_type": "execute_result",
          "data": {
            "text/plain": [
              "5566"
            ]
          },
          "metadata": {},
          "execution_count": 46
        }
      ]
    },
    {
      "cell_type": "markdown",
      "metadata": {
        "id": "JZQzGgdbeM4I"
      },
      "source": [
        "## Largest Connected Component Details"
      ]
    },
    {
      "cell_type": "code",
      "metadata": {
        "id": "Xche7aMqdiDg"
      },
      "source": [
        "largest_connected_component = G.subgraph(max(connected_components, key=len))"
      ],
      "execution_count": 54,
      "outputs": []
    },
    {
      "cell_type": "markdown",
      "metadata": {
        "id": "YS-d0uGxhwU2"
      },
      "source": [
        "Number of Nodes"
      ]
    },
    {
      "cell_type": "code",
      "metadata": {
        "colab": {
          "base_uri": "https://localhost:8080/"
        },
        "id": "dHKF9U8Nhymb",
        "outputId": "4cbe8e85-6012-4ab1-c77a-838e098fc783"
      },
      "source": [
        "largest_connected_component.number_of_nodes()"
      ],
      "execution_count": 55,
      "outputs": [
        {
          "output_type": "execute_result",
          "data": {
            "text/plain": [
              "119070"
            ]
          },
          "metadata": {},
          "execution_count": 55
        }
      ]
    },
    {
      "cell_type": "markdown",
      "metadata": {
        "id": "9Y7eWfwgiJhS"
      },
      "source": [
        "Number of Edges"
      ]
    },
    {
      "cell_type": "code",
      "metadata": {
        "colab": {
          "base_uri": "https://localhost:8080/"
        },
        "id": "IVyU6fV1j_NU",
        "outputId": "f2894060-3821-44c4-87be-59c41c5e6c7c"
      },
      "source": [
        "largest_connected_component.number_of_edges()"
      ],
      "execution_count": 56,
      "outputs": [
        {
          "output_type": "execute_result",
          "data": {
            "text/plain": [
              "701569"
            ]
          },
          "metadata": {},
          "execution_count": 56
        }
      ]
    }
  ]
}