{
  "nbformat": 4,
  "nbformat_minor": 0,
  "metadata": {
    "colab": {
      "name": "SEN_HW3_7.ipynb",
      "provenance": [],
      "collapsed_sections": [],
      "toc_visible": true,
      "authorship_tag": "ABX9TyPRsa/1j/hCnEpWy7Xn+Uck",
      "include_colab_link": true
    },
    "kernelspec": {
      "name": "python3",
      "display_name": "Python 3"
    },
    "language_info": {
      "name": "python"
    }
  },
  "cells": [
    {
      "cell_type": "markdown",
      "metadata": {
        "id": "view-in-github",
        "colab_type": "text"
      },
      "source": [
        "<a href=\"https://colab.research.google.com/github/HLTT14/Social-and-Economic-Networks/blob/main/HW3/SEN_HW3_7.ipynb\" target=\"_parent\"><img src=\"https://colab.research.google.com/assets/colab-badge.svg\" alt=\"Open In Colab\"/></a>"
      ]
    },
    {
      "cell_type": "markdown",
      "metadata": {
        "id": "JO0b5kWer_Hr"
      },
      "source": [
        "# **Setup**"
      ]
    },
    {
      "cell_type": "markdown",
      "metadata": {
        "id": "AVX7L8JpsGAL"
      },
      "source": [
        "## Download Datasets"
      ]
    },
    {
      "cell_type": "code",
      "metadata": {
        "colab": {
          "base_uri": "https://localhost:8080/"
        },
        "id": "R4ez-CDysRtf",
        "outputId": "ef876c76-e809-42f1-8181-823782e6e373"
      },
      "source": [
        "!git clone https://github.com/HLTT14/Social-and-Economic-Networks.git"
      ],
      "execution_count": 2,
      "outputs": [
        {
          "output_type": "stream",
          "name": "stdout",
          "text": [
            "Cloning into 'Social-and-Economic-Networks'...\n",
            "remote: Enumerating objects: 32, done.\u001b[K\n",
            "remote: Counting objects: 100% (32/32), done.\u001b[K\n",
            "remote: Compressing objects: 100% (28/28), done.\u001b[K\n",
            "remote: Total 32 (delta 5), reused 14 (delta 1), pack-reused 0\u001b[K\n",
            "Unpacking objects: 100% (32/32), done.\n"
          ]
        }
      ]
    },
    {
      "cell_type": "markdown",
      "metadata": {
        "id": "1Evm-GuhuL9S"
      },
      "source": [
        "## Install Libraries"
      ]
    },
    {
      "cell_type": "code",
      "metadata": {
        "colab": {
          "base_uri": "https://localhost:8080/"
        },
        "id": "z4bt8FQduOXq",
        "outputId": "f624ff94-e236-470f-b3b1-4c57a7c08850"
      },
      "source": [
        "pip install networkx"
      ],
      "execution_count": 3,
      "outputs": [
        {
          "output_type": "stream",
          "name": "stdout",
          "text": [
            "Requirement already satisfied: networkx in /usr/local/lib/python3.7/dist-packages (2.6.3)\n"
          ]
        }
      ]
    },
    {
      "cell_type": "markdown",
      "metadata": {
        "id": "lg5suqSLwlzL"
      },
      "source": [
        "## Import Libraries"
      ]
    },
    {
      "cell_type": "code",
      "metadata": {
        "id": "4CWfGY5XwlX4"
      },
      "source": [
        "import pandas as pd\n",
        "import networkx as nx\n",
        "import numpy as np"
      ],
      "execution_count": 134,
      "outputs": []
    },
    {
      "cell_type": "markdown",
      "metadata": {
        "id": "RBsEaZ0ZuXub"
      },
      "source": [
        "# **Initialization**"
      ]
    },
    {
      "cell_type": "markdown",
      "metadata": {
        "id": "qGD2K0ozub6d"
      },
      "source": [
        "## Read Dataset"
      ]
    },
    {
      "cell_type": "code",
      "metadata": {
        "id": "adWnofTWu3bM"
      },
      "source": [
        "df = pd.read_csv(\"/content/Social-and-Economic-Networks/HW3/dataset.tsv\", sep=\"\\t\", header=None, names=['node1', 'node2', 'sign'])"
      ],
      "execution_count": 76,
      "outputs": []
    },
    {
      "cell_type": "code",
      "metadata": {
        "id": "WwKUfKJMOfc3"
      },
      "source": [
        "gb = df.groupby('sign')\n",
        "grouped_df = [gb.get_group(x) for x in gb.groups]"
      ],
      "execution_count": 77,
      "outputs": []
    },
    {
      "cell_type": "code",
      "metadata": {
        "id": "R-WugnpEQWeG"
      },
      "source": [
        "negetive_edges = list(grouped_df[0].iloc[:, :2].to_records(index=False))\n",
        "positive_edges = list(grouped_df[1].iloc[:, :2].to_records(index=False))"
      ],
      "execution_count": 78,
      "outputs": []
    },
    {
      "cell_type": "markdown",
      "metadata": {
        "id": "MLXsYhGLeTzC"
      },
      "source": [
        "# **Main**"
      ]
    },
    {
      "cell_type": "markdown",
      "metadata": {
        "id": "vsojdDaBxJAQ"
      },
      "source": [
        "## Create Graph"
      ]
    },
    {
      "cell_type": "code",
      "metadata": {
        "id": "kJJdYGnTxLO0"
      },
      "source": [
        "G = nx.Graph()\n",
        "G.add_edges_from(positive_edges, relationship=1)\n",
        "G.add_edges_from(negetive_edges, relationship=-1)"
      ],
      "execution_count": 103,
      "outputs": []
    },
    {
      "cell_type": "markdown",
      "metadata": {
        "id": "gcy-CrgvbNVT"
      },
      "source": [
        "## Graph Details"
      ]
    },
    {
      "cell_type": "markdown",
      "metadata": {
        "id": "YzsY1JdOa5Bt"
      },
      "source": [
        "Number of Nodes"
      ]
    },
    {
      "cell_type": "code",
      "metadata": {
        "colab": {
          "base_uri": "https://localhost:8080/"
        },
        "id": "SSn3AsG_a9A5",
        "outputId": "f1fa7462-dc97-4445-9b63-f7d9d4de0356"
      },
      "source": [
        "G.number_of_nodes()"
      ],
      "execution_count": 104,
      "outputs": [
        {
          "output_type": "execute_result",
          "data": {
            "text/plain": [
              "131513"
            ]
          },
          "metadata": {},
          "execution_count": 104
        }
      ]
    },
    {
      "cell_type": "markdown",
      "metadata": {
        "id": "qjdkFBXmbG3w"
      },
      "source": [
        "Number of Edges"
      ]
    },
    {
      "cell_type": "code",
      "metadata": {
        "colab": {
          "base_uri": "https://localhost:8080/"
        },
        "id": "N_NyrQPFbI3Z",
        "outputId": "b6be02be-c30b-4f07-ebba-d679d01bab10"
      },
      "source": [
        "G.number_of_edges()"
      ],
      "execution_count": 105,
      "outputs": [
        {
          "output_type": "execute_result",
          "data": {
            "text/plain": [
              "708507"
            ]
          },
          "metadata": {},
          "execution_count": 105
        }
      ]
    },
    {
      "cell_type": "markdown",
      "metadata": {
        "id": "7aNvgZmWcglz"
      },
      "source": [
        "Number of Connected Components"
      ]
    },
    {
      "cell_type": "code",
      "metadata": {
        "colab": {
          "base_uri": "https://localhost:8080/"
        },
        "id": "pYs174VadC5p",
        "outputId": "c9f0870f-2fa5-4c01-cea4-09d756faf0d8"
      },
      "source": [
        "connected_components = list(nx.connected_components(G))\n",
        "len(connected_components)"
      ],
      "execution_count": 106,
      "outputs": [
        {
          "output_type": "execute_result",
          "data": {
            "text/plain": [
              "5566"
            ]
          },
          "metadata": {},
          "execution_count": 106
        }
      ]
    },
    {
      "cell_type": "markdown",
      "metadata": {
        "id": "JZQzGgdbeM4I"
      },
      "source": [
        "## Largest Connected Component Details"
      ]
    },
    {
      "cell_type": "code",
      "metadata": {
        "id": "Xche7aMqdiDg"
      },
      "source": [
        "largest_connected_component = G.subgraph(max(connected_components, key=len))"
      ],
      "execution_count": 84,
      "outputs": []
    },
    {
      "cell_type": "markdown",
      "metadata": {
        "id": "YS-d0uGxhwU2"
      },
      "source": [
        "Number of Nodes"
      ]
    },
    {
      "cell_type": "code",
      "metadata": {
        "colab": {
          "base_uri": "https://localhost:8080/"
        },
        "id": "dHKF9U8Nhymb",
        "outputId": "231483fb-6d12-4c09-d733-d6b77b9cf532"
      },
      "source": [
        "largest_connected_component.number_of_nodes()"
      ],
      "execution_count": 85,
      "outputs": [
        {
          "output_type": "execute_result",
          "data": {
            "text/plain": [
              "119070"
            ]
          },
          "metadata": {},
          "execution_count": 85
        }
      ]
    },
    {
      "cell_type": "markdown",
      "metadata": {
        "id": "9Y7eWfwgiJhS"
      },
      "source": [
        "Number of Edges"
      ]
    },
    {
      "cell_type": "code",
      "metadata": {
        "colab": {
          "base_uri": "https://localhost:8080/"
        },
        "id": "IVyU6fV1j_NU",
        "outputId": "9bd4489f-9e01-43ef-fef6-37976e5be66f"
      },
      "source": [
        "largest_connected_component.number_of_edges()"
      ],
      "execution_count": 86,
      "outputs": [
        {
          "output_type": "execute_result",
          "data": {
            "text/plain": [
              "701569"
            ]
          },
          "metadata": {},
          "execution_count": 86
        }
      ]
    },
    {
      "cell_type": "markdown",
      "metadata": {
        "id": "wcBQFp21S-nt"
      },
      "source": [
        "## Triangles Analysis"
      ]
    },
    {
      "cell_type": "markdown",
      "metadata": {
        "id": "QUvtvEbkX8v0"
      },
      "source": [
        "Number of Triangle Types"
      ]
    },
    {
      "cell_type": "code",
      "metadata": {
        "colab": {
          "base_uri": "https://localhost:8080/"
        },
        "id": "43gO3OVdURLO",
        "outputId": "c89d2c35-b245-4a3b-fc56-809d42a6292c"
      },
      "source": [
        "triangles = [c for c in nx.cycle_basis(G) if len(c)==3]\n",
        "triangle_types_count = {0: 0, 1: 0, 2: 0, 3: 0}\n",
        "for triangle in triangles:\n",
        "    triad = nx.subgraph(G, triangle)\n",
        "    positive_edges_count = [x[2]['relationship'] for x in triad.edges(data=True)].count(1)\n",
        "    triangle_types_count[positive_edges_count] += 1\n",
        "print(triangle_types_count)"
      ],
      "execution_count": 119,
      "outputs": [
        {
          "metadata": {
            "tags": null
          },
          "name": "stdout",
          "output_type": "stream",
          "text": [
            "{0: 3640, 1: 38395, 2: 13362, 3: 93923}\n"
          ]
        }
      ]
    },
    {
      "cell_type": "markdown",
      "metadata": {
        "id": "piHsihRaZg-9"
      },
      "source": [
        "Ratio of Triangle Types"
      ]
    },
    {
      "cell_type": "code",
      "metadata": {
        "colab": {
          "base_uri": "https://localhost:8080/"
        },
        "id": "_qu2IGtEZwQY",
        "outputId": "544b58ac-bc19-4587-eb8c-c90ccd194abe"
      },
      "source": [
        "triangles_count = len(triangles)\n",
        "triangle_types_ratio = {k:round(v / triangles_count * 100, 3) for k, v in triangle_types_count.items()}\n",
        "triangle_types_ratio"
      ],
      "execution_count": 122,
      "outputs": [
        {
          "output_type": "execute_result",
          "data": {
            "text/plain": [
              "{0: 2.438, 1: 25.713, 2: 8.949, 3: 62.9}"
            ]
          },
          "metadata": {},
          "execution_count": 122
        }
      ]
    },
    {
      "cell_type": "markdown",
      "metadata": {
        "id": "iP3hMEOOY7u9"
      },
      "source": [
        "Ratio of Balanced Triangles"
      ]
    },
    {
      "cell_type": "code",
      "metadata": {
        "colab": {
          "base_uri": "https://localhost:8080/"
        },
        "id": "VkSS55I1ZIMQ",
        "outputId": "9f4dbe77-c38c-4e62-9106-11de3b15a95c"
      },
      "source": [
        "triangle_types_ratio[3] + triangle_types_ratio[1] "
      ],
      "execution_count": 123,
      "outputs": [
        {
          "output_type": "execute_result",
          "data": {
            "text/plain": [
              "88.613"
            ]
          },
          "metadata": {},
          "execution_count": 123
        }
      ]
    },
    {
      "cell_type": "markdown",
      "metadata": {
        "id": "NP--SOSeZEfD"
      },
      "source": [
        "Ratio of Unbalanced Triangles"
      ]
    },
    {
      "cell_type": "code",
      "metadata": {
        "colab": {
          "base_uri": "https://localhost:8080/"
        },
        "id": "B-Q95tJFfdfT",
        "outputId": "8bae7b60-49d7-4f1f-a528-8f9009ea745e"
      },
      "source": [
        "triangle_types_ratio[2] + triangle_types_ratio[0] "
      ],
      "execution_count": 124,
      "outputs": [
        {
          "output_type": "execute_result",
          "data": {
            "text/plain": [
              "11.387"
            ]
          },
          "metadata": {},
          "execution_count": 124
        }
      ]
    },
    {
      "cell_type": "markdown",
      "metadata": {
        "id": "iEBX2XKKhqUy"
      },
      "source": [
        "## Create Probabilistic Graph"
      ]
    },
    {
      "cell_type": "code",
      "metadata": {
        "id": "vajdhbs4huNK"
      },
      "source": [
        "p = len(positive_edges) / G.number_of_edges()\n",
        "df2 = df\n",
        "for i, row in df2.iterrows():\n",
        "  sign = np.random.choice([-1, 1], size=1, p=(1-p, p))[0]\n",
        "  df2.loc[i, 'sign'] = sign"
      ],
      "execution_count": 158,
      "outputs": []
    },
    {
      "cell_type": "code",
      "metadata": {
        "id": "lp6JTy9vqveR"
      },
      "source": [
        "gb2 = df2.groupby('sign')\n",
        "grouped_df2 = [gb2.get_group(x) for x in gb2.groups]"
      ],
      "execution_count": 160,
      "outputs": []
    },
    {
      "cell_type": "code",
      "metadata": {
        "id": "eapivBbzq2eD"
      },
      "source": [
        "negetive_edges2 = list(grouped_df2[0].iloc[:, :2].to_records(index=False))\n",
        "positive_edges2 = list(grouped_df2[1].iloc[:, :2].to_records(index=False))"
      ],
      "execution_count": 161,
      "outputs": []
    },
    {
      "cell_type": "code",
      "metadata": {
        "id": "JE0fMeiRq8mf"
      },
      "source": [
        "G2 = nx.Graph()\n",
        "G2.add_edges_from(positive_edges2, relationship=1)\n",
        "G2.add_edges_from(negetive_edges2, relationship=-1)"
      ],
      "execution_count": 162,
      "outputs": []
    },
    {
      "cell_type": "markdown",
      "metadata": {
        "id": "xR6yBWqMrM88"
      },
      "source": [
        "Number of Triangle Types"
      ]
    },
    {
      "cell_type": "code",
      "metadata": {
        "colab": {
          "base_uri": "https://localhost:8080/"
        },
        "id": "8H9nsE-brWAj",
        "outputId": "d2876230-e49c-43d9-f869-1dd1affe067d"
      },
      "source": [
        "triangles2 = [c for c in nx.cycle_basis(G2) if len(c)==3]\n",
        "triangle_types_count2 = {0: 0, 1: 0, 2: 0, 3: 0}\n",
        "for triangle in triangles2:\n",
        "    triad = nx.subgraph(G, triangle)\n",
        "    positive_edges_count2 = [x[2]['relationship'] for x in triad.edges(data=True)].count(1)\n",
        "    triangle_types_count2[positive_edges_count2] += 1\n",
        "print(triangle_types_count2)"
      ],
      "execution_count": 163,
      "outputs": [
        {
          "output_type": "stream",
          "name": "stdout",
          "text": [
            "{0: 1446, 1: 14240, 2: 8237, 3: 116438}\n"
          ]
        }
      ]
    },
    {
      "cell_type": "markdown",
      "metadata": {
        "id": "ZJ5rS4SWrvh3"
      },
      "source": [
        "Ratio of Triangle Types"
      ]
    },
    {
      "cell_type": "code",
      "metadata": {
        "colab": {
          "base_uri": "https://localhost:8080/"
        },
        "id": "TLF9Jxo3rxte",
        "outputId": "d6788785-fd09-4922-eb87-ecd0812d1889"
      },
      "source": [
        "triangles_count2 = len(triangles2)\n",
        "triangle_types_ratio2 = {k:round(v / triangles_count2 * 100, 3) for k, v in triangle_types_count2.items()}\n",
        "triangle_types_ratio2"
      ],
      "execution_count": 164,
      "outputs": [
        {
          "output_type": "execute_result",
          "data": {
            "text/plain": [
              "{0: 1.03, 1: 10.145, 2: 5.868, 3: 82.956}"
            ]
          },
          "metadata": {},
          "execution_count": 164
        }
      ]
    },
    {
      "cell_type": "markdown",
      "metadata": {
        "id": "BHpo3Lk1r4Kk"
      },
      "source": [
        "Ratio of Balanced Triangles"
      ]
    },
    {
      "cell_type": "code",
      "metadata": {
        "colab": {
          "base_uri": "https://localhost:8080/"
        },
        "id": "YEyu9VEur5Ml",
        "outputId": "33e237df-dd88-441f-e983-d942c9b98264"
      },
      "source": [
        "triangle_types_ratio2[3] + triangle_types_ratio2[1] "
      ],
      "execution_count": 165,
      "outputs": [
        {
          "output_type": "execute_result",
          "data": {
            "text/plain": [
              "93.101"
            ]
          },
          "metadata": {},
          "execution_count": 165
        }
      ]
    },
    {
      "cell_type": "markdown",
      "metadata": {
        "id": "ftnKS_aGr9wE"
      },
      "source": [
        "Ratio of Unbalanced Triangles"
      ]
    },
    {
      "cell_type": "code",
      "metadata": {
        "colab": {
          "base_uri": "https://localhost:8080/"
        },
        "id": "kX6pFMDPr_nC",
        "outputId": "b2ce839e-59af-4432-b2d5-1c5e7fa47020"
      },
      "source": [
        "triangle_types_ratio2[2] + triangle_types_ratio2[0] "
      ],
      "execution_count": 166,
      "outputs": [
        {
          "output_type": "execute_result",
          "data": {
            "text/plain": [
              "6.898000000000001"
            ]
          },
          "metadata": {},
          "execution_count": 166
        }
      ]
    }
  ]
}