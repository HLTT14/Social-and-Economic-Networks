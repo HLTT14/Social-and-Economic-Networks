{
  "nbformat": 4,
  "nbformat_minor": 0,
  "metadata": {
    "colab": {
      "name": "SEN_HW5_12.ipynb",
      "provenance": [],
      "collapsed_sections": [],
      "authorship_tag": "ABX9TyPzKEheJyflmXhmFIrAFjhy",
      "include_colab_link": true
    },
    "kernelspec": {
      "name": "python3",
      "display_name": "Python 3"
    },
    "language_info": {
      "name": "python"
    }
  },
  "cells": [
    {
      "cell_type": "markdown",
      "metadata": {
        "id": "view-in-github",
        "colab_type": "text"
      },
      "source": [
        "<a href=\"https://colab.research.google.com/github/HLTT14/Social-and-Economic-Networks/blob/main/HW5/SEN_HW5_12.ipynb\" target=\"_parent\"><img src=\"https://colab.research.google.com/assets/colab-badge.svg\" alt=\"Open In Colab\"/></a>"
      ]
    },
    {
      "cell_type": "markdown",
      "source": [
        "# Setup"
      ],
      "metadata": {
        "id": "YngiNZe1AgTL"
      }
    },
    {
      "cell_type": "markdown",
      "source": [
        "## Download Dataset"
      ],
      "metadata": {
        "id": "dR0VGL3mAlJs"
      }
    },
    {
      "cell_type": "code",
      "source": [
        "!git clone https://github.com/HLTT14/Social-and-Economic-Networks.git"
      ],
      "metadata": {
        "colab": {
          "base_uri": "https://localhost:8080/"
        },
        "id": "P1GjPcaNAnoA",
        "outputId": "1f877192-187c-459b-f1aa-fe88cdd8ca1e"
      },
      "execution_count": 1,
      "outputs": [
        {
          "output_type": "stream",
          "name": "stdout",
          "text": [
            "Cloning into 'Social-and-Economic-Networks'...\n",
            "remote: Enumerating objects: 87, done.\u001b[K\n",
            "remote: Counting objects: 100% (16/16), done.\u001b[K\n",
            "remote: Compressing objects: 100% (14/14), done.\u001b[K\n",
            "remote: Total 87 (delta 2), reused 12 (delta 1), pack-reused 71\u001b[K\n",
            "Unpacking objects: 100% (87/87), done.\n"
          ]
        }
      ]
    },
    {
      "cell_type": "markdown",
      "source": [
        "## Import Libraries"
      ],
      "metadata": {
        "id": "Qg6DKvyGAr9L"
      }
    },
    {
      "cell_type": "code",
      "source": [
        "import networkx as nx\n",
        "import matplotlib.pyplot as plt"
      ],
      "metadata": {
        "id": "9MMRo_J6Athe"
      },
      "execution_count": 2,
      "outputs": []
    },
    {
      "cell_type": "markdown",
      "source": [
        "# Initialization"
      ],
      "metadata": {
        "id": "d8uX0hOfAyIx"
      }
    },
    {
      "cell_type": "markdown",
      "source": [
        "## Read Files"
      ],
      "metadata": {
        "id": "f39_gXTyAzkq"
      }
    },
    {
      "cell_type": "code",
      "source": [
        "with open(\"/content/Social-and-Economic-Networks/HW5/CA-GrQc.txt\") as file:\n",
        "    lines = file.readlines()\n",
        "    edges = []\n",
        "    for line in lines:\n",
        "        edges.append(tuple(line.split()))"
      ],
      "metadata": {
        "id": "Psz6icLxA2yb"
      },
      "execution_count": 3,
      "outputs": []
    },
    {
      "cell_type": "markdown",
      "source": [
        "# Main"
      ],
      "metadata": {
        "id": "b5PlycYuBwt4"
      }
    },
    {
      "cell_type": "markdown",
      "source": [
        "## Create Graph"
      ],
      "metadata": {
        "id": "37fRYeC3ByBa"
      }
    },
    {
      "cell_type": "code",
      "source": [
        "DG = nx.DiGraph()\n",
        "DG.add_edges_from(edges)"
      ],
      "metadata": {
        "id": "BCPFPEiWB2qu"
      },
      "execution_count": 4,
      "outputs": []
    },
    {
      "cell_type": "markdown",
      "source": [
        "## Convert to Undirected Graph"
      ],
      "metadata": {
        "id": "HpO6i9jIB77X"
      }
    },
    {
      "cell_type": "code",
      "source": [
        "G = DG.to_undirected()"
      ],
      "metadata": {
        "id": "ieSMCF8EB9VG"
      },
      "execution_count": 5,
      "outputs": []
    },
    {
      "cell_type": "markdown",
      "source": [
        "## Remove Selfloops"
      ],
      "metadata": {
        "id": "ohxQ68-gCAKB"
      }
    },
    {
      "cell_type": "code",
      "source": [
        "G.remove_edges_from(nx.selfloop_edges(G))"
      ],
      "metadata": {
        "id": "fsKFlBn8CB0J"
      },
      "execution_count": 6,
      "outputs": []
    },
    {
      "cell_type": "code",
      "source": [
        "G.edges('7546')"
      ],
      "metadata": {
        "colab": {
          "base_uri": "https://localhost:8080/"
        },
        "id": "pF7XAUjeVu26",
        "outputId": "b4604077-b9c1-43dc-ab2b-26ea66b46697"
      },
      "execution_count": 7,
      "outputs": [
        {
          "output_type": "execute_result",
          "data": {
            "text/plain": [
              "EdgeDataView([('7546', '12425'), ('7546', '7088'), ('7546', '18366'), ('7546', '25217')])"
            ]
          },
          "metadata": {},
          "execution_count": 7
        }
      ]
    },
    {
      "cell_type": "markdown",
      "source": [
        "## A. Calculate Total Utility to Efficient Network Total Utility Ratio"
      ],
      "metadata": {
        "id": "1eXdah0mHoUl"
      }
    },
    {
      "cell_type": "code",
      "source": [
        "utilities = []\n",
        "for n in G.nodes:\n",
        "  utility = 0\n",
        "  for e in G.edges(n):\n",
        "    utility += 1/G.degree[e[0]] + 1/G.degree[e[1]] + 1/(G.degree[e[0]] * G.degree[e[1]])\n",
        "  utilities.append(utility)\n",
        "\n",
        "total_utility = sum(utilities)"
      ],
      "metadata": {
        "id": "TxA8-4bHC2YW"
      },
      "execution_count": 8,
      "outputs": []
    },
    {
      "cell_type": "code",
      "source": [
        "N = G.number_of_nodes()\n",
        "efficient_network_tatal_utility = N * 3"
      ],
      "metadata": {
        "id": "rGCqizbgGqWZ"
      },
      "execution_count": 9,
      "outputs": []
    },
    {
      "cell_type": "code",
      "source": [
        "print(total_utility / efficient_network_tatal_utility)"
      ],
      "metadata": {
        "colab": {
          "base_uri": "https://localhost:8080/"
        },
        "id": "TOa3soqQIDuw",
        "outputId": "3c93db5c-4fef-45f4-ed51-e990db7b5bc0"
      },
      "execution_count": 10,
      "outputs": [
        {
          "output_type": "stream",
          "name": "stdout",
          "text": [
            "0.7606117267778175\n"
          ]
        }
      ]
    },
    {
      "cell_type": "markdown",
      "source": [
        "## B. Utility Function Distribution"
      ],
      "metadata": {
        "id": "i_Oa28qcK3Lc"
      }
    },
    {
      "cell_type": "code",
      "source": [
        "plt.hist(utilities, bins=16)\n",
        "plt.ylabel('Frequency')\n",
        "plt.xlabel('Utility');"
      ],
      "metadata": {
        "colab": {
          "base_uri": "https://localhost:8080/",
          "height": 279
        },
        "id": "GCMEerK-K8J5",
        "outputId": "e24bc65e-5e99-476a-ed45-7aebdb455906"
      },
      "execution_count": 11,
      "outputs": [
        {
          "output_type": "display_data",
          "data": {
            "image/png": "[encoded data removed]",
            "text/plain": [
              "<Figure size 432x288 with 1 Axes>"
            ]
          },
          "metadata": {
            "needs_background": "light"
          }
        }
      ]
    },
    {
      "cell_type": "markdown",
      "source": [
        "## C. Degree Distribution"
      ],
      "metadata": {
        "id": "cUkMW1DhL2ZW"
      }
    },
    {
      "cell_type": "code",
      "source": [
        "    degrees = [G.degree(n) for n in G.nodes()]\n",
        "    plt.hist(degrees, bins=80)\n",
        "    plt.ylabel('Frequency')\n",
        "    plt.xlabel('Degree');"
      ],
      "metadata": {
        "colab": {
          "base_uri": "https://localhost:8080/",
          "height": 279
        },
        "id": "0oKWfVqML7iE",
        "outputId": "40f45c71-b1ed-40ea-a831-abaae68d49ba"
      },
      "execution_count": 12,
      "outputs": [
        {
          "output_type": "display_data",
          "data": {
            "image/png": "[encoded data removed]",
            "text/plain": [
              "<Figure size 432x288 with 1 Axes>"
            ]
          },
          "metadata": {
            "needs_background": "light"
          }
        }
      ]
    },
    {
      "cell_type": "markdown",
      "source": [
        "## D. Max Neighbor Degree Distribution"
      ],
      "metadata": {
        "id": "hmEjU3InPPrs"
      }
    },
    {
      "cell_type": "code",
      "source": [
        "neighbors_max_degree = []\n",
        "for n in G.nodes:\n",
        "  neighbors_max_degree.append(max([G.degree[x] for x in G.neighbors(n)], default=0))\n",
        "\n",
        "plt.hist(neighbors_max_degree, bins=80)\n",
        "plt.ylabel('Frequency')\n",
        "plt.xlabel('Degree');"
      ],
      "metadata": {
        "colab": {
          "base_uri": "https://localhost:8080/",
          "height": 279
        },
        "id": "5eW6hX7YOQK3",
        "outputId": "2765a5ae-8479-4216-9484-f91d693cff9c"
      },
      "execution_count": 13,
      "outputs": [
        {
          "output_type": "display_data",
          "data": {
            "image/png": "[encoded data removed]",
            "text/plain": [
              "<Figure size 432x288 with 1 Axes>"
            ]
          },
          "metadata": {
            "needs_background": "light"
          }
        }
      ]
    },
    {
      "cell_type": "markdown",
      "source": [
        "## E. Ratio of Stable Edges to All Edges"
      ],
      "metadata": {
        "id": "01aXiP0hQHIc"
      }
    },
    {
      "cell_type": "code",
      "source": [
        "def node_utility(n, g):\n",
        "  utility = 0\n",
        "  for e in g.edges(n):\n",
        "    utility += 1/g.degree[e[0]] + 1/g.degree[e[1]] + 1/(g.degree[e[0]] * g.degree[e[1]])\n",
        "  return utility\n",
        "\n",
        "stable_edges_count = 0\n",
        "for e in G.edges:\n",
        "  T = G.copy()\n",
        "  T.remove_edge(*e)\n",
        "  if node_utility(e[0], G) >= node_utility(e[0], T) and node_utility(e[1], G) >= node_utility(e[1], T):\n",
        "    stable_edges_count += 1\n",
        "\n",
        "print(stable_edges_count / G.number_of_edges())"
      ],
      "metadata": {
        "colab": {
          "base_uri": "https://localhost:8080/"
        },
        "id": "UyEtqMCOQGtR",
        "outputId": "b2592b43-78c1-487a-aa0f-52e75ca1701b"
      },
      "execution_count": 17,
      "outputs": [
        {
          "output_type": "stream",
          "name": "stdout",
          "text": [
            "0.9415216790941728\n"
          ]
        }
      ]
    },
    {
      "cell_type": "markdown",
      "source": [
        "## F. Ratio of Positive Non Existing Edges to All Non Existing Edges"
      ],
      "metadata": {
        "id": "TpAGKVUigI-x"
      }
    },
    {
      "cell_type": "code",
      "source": [
        "positive_edges_count = 0\n",
        "for e in nx.non_edges(G):\n",
        "  u, v = e\n",
        "  T = G.copy()\n",
        "  T.add_edge(u, v)\n",
        "  node_utility_u_in_G = node_utility(u, G)\n",
        "  node_utility_u_in_T = node_utility(u, T)\n",
        "  node_utility_v_in_G = node_utility(v, G)\n",
        "  node_utility_v_in_T = node_utility(v, T)\n",
        "  if (node_utility_u_in_T > node_utility_u_in_G and node_utility_v_in_T >= node_utility_v_in_G):\n",
        "    positive_edges_count += 1\n",
        "  if (node_utility_v_in_T > node_utility_v_in_G and node_utility_u_in_T >= node_utility_u_in_G):\n",
        "    positive_edges_count += 1\n",
        "  \n",
        "print(positive_edges_count / len(list(nx.non_edges(G))))"
      ],
      "metadata": {
        "id": "_4tKLnYvg0uN"
      },
      "execution_count": null,
      "outputs": []
    }
  ]
}